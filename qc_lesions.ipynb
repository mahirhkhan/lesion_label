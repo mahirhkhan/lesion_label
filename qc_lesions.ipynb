{
 "cells": [
  {
   "cell_type": "code",
   "execution_count": 6,
   "metadata": {
    "collapsed": false
   },
   "outputs": [
    {
     "name": "stderr",
     "output_type": "stream",
     "text": [
      "usage: __main__.py [-h] [-m mse####]\n",
      "__main__.py: error: unrecognized arguments: -f /run/user/3654/jupyter/kernel-5fc46811-355e-4f72-b652-3fb3b8c405a5.json\n"
     ]
    },
    {
     "ename": "SystemExit",
     "evalue": "2",
     "output_type": "error",
     "traceback": [
      "An exception has occurred, use %tb to see the full traceback.\n",
      "\u001b[1;31mSystemExit\u001b[0m\u001b[1;31m:\u001b[0m 2\n"
     ]
    },
    {
     "name": "stderr",
     "output_type": "stream",
     "text": [
      "To exit: use 'exit', 'quit', or Ctrl-D.\n"
     ]
    }
   ],
   "source": [
    "import argparse\n",
    "import os\n",
    "import numpy as np\n",
    "import glob\n",
    "\n",
    "def valid_file(parser,arg):\n",
    "    arg = os.path.abspath(arg)\n",
    "    if not os.path.exists(arg):\n",
    "        parser.error(\"The file does not exist\")\n",
    "    else:\n",
    "        return arg\n",
    "\n",
    "parser = argparse.ArgumentParser(description=\"Input an mseID and the freeview command with relevant information will output\")\n",
    "parser.add_argument(\"-m\",\"--mse\",\n",
    "                    dest=\"mse\",\n",
    "                    type = str,\n",
    "                    default=[],\n",
    "                    metavar=\"mse####\",\n",
    "                    action=\"append\",\n",
    "                    help=\"import one or more mseIDs using the format mse####\")\n",
    "args = parser.parse_args()\n",
    "\n",
    "if args.mse == []:\n",
    "    raise parser.error(\"No mseIDs inputted\")\n",
    "else:\n",
    "    subjects = args.mse\n",
    "\n",
    "for num in range(len(subjects)):\n",
    "    for les_file in glob.glob(\"/data/henry7/PBR/subjects/%s/lesions_manual/*/alignment_lesions.nii.gz\" % subjects[num]):\n",
    "        les_file\n",
    "    for seg_file in glob.glob(\"/data/henry7/PBR/subjects/%s/masks/*/segmentation.nii.gz\" % subjects[num]):\n",
    "        seg_file\n",
    "    for gm_file in glob.glob(\"/data/henry6/PBR/surfaces/*%s*/mri/ribbon.mgz\" % subjects[num]):\n",
    "        gm_file\n",
    "    print; print \"Freeview command for %s\" % subjects[num]\n",
    "    print; print \"freeview\",gm_file,seg_file,les_file; print"
   ]
  },
  {
   "cell_type": "code",
   "execution_count": null,
   "metadata": {
    "collapsed": true
   },
   "outputs": [],
   "source": []
  }
 ],
 "metadata": {
  "kernelspec": {
   "display_name": "Python 2",
   "language": "python",
   "name": "python2"
  },
  "language_info": {
   "codemirror_mode": {
    "name": "ipython",
    "version": 2
   },
   "file_extension": ".py",
   "mimetype": "text/x-python",
   "name": "python",
   "nbconvert_exporter": "python",
   "pygments_lexer": "ipython2",
   "version": "2.7.11"
  }
 },
 "nbformat": 4,
 "nbformat_minor": 0
}
